{
 "cells": [
  {
   "cell_type": "code",
   "execution_count": 431,
   "metadata": {},
   "outputs": [],
   "source": [
    "import numpy as np\n",
    "import pandas as pd\n",
    "import matplotlib.pyplot as plt\n",
    "from sklearn.cluster import DBSCAN\n",
    "from sklearn import metrics\n",
    "from sklearn.datasets import make_blobs\n",
    "from sklearn.preprocessing import StandardScaler\n",
    "from geopy.distance import great_circle\n",
    "#from shapely.geometry import MultiPoint, Point\n",
    "#import hvplot\n",
    "#import geopandas as gpd\n",
    "#import networkx as nx \n"
   ]
  },
  {
   "cell_type": "code",
   "execution_count": 434,
   "metadata": {},
   "outputs": [],
   "source": [
    "# load GPS DATA\n",
    "\n",
    "path1 = 'https://raw.githubusercontent.com/acigna/corona_personal_walk_tracking/master/personal_walk.csv'\n",
    "path2 = 'https://raw.githubusercontent.com/acigna/corona_personal_walk_tracking/master/personal_walk2.csv'\n",
    "\n",
    "positions = pd.read_csv(path1)\n",
    "positions1 = pd.read_csv(path2)\n",
    "positions = positions.append(positions1)\n",
    "#print(positions.iloc[1,3])\n",
    "#positions = positions[:600]\n",
    "mat=pd.DataFrame(columns=['lat','lon'])\n",
    "mat['lat']= positions.lat.values\n",
    "mat['lon']= positions.lon.values\n",
    "#print(mat)\n",
    "#plt.plot(mat['lon'], mat['lat'], c = 'red')\n",
    "#plt.show"
   ]
  },
  {
   "cell_type": "code",
   "execution_count": 435,
   "metadata": {},
   "outputs": [],
   "source": [
    "# compute speed \n",
    "\n",
    "mat_x = positions.lat.values\n",
    "mat_y = positions.lat.values\n",
    "time_step = 1\n",
    "n = len(mat_x) # nombre de positions\n",
    "\n",
    "speed = np.zeros(n)\n",
    "for j in range (1,n):\n",
    "        dist_x =mat_x[j]-mat_x[j-1]\n",
    "        dist_y = mat_y[j]-mat_y[j-1]\n",
    "        speed[j]= np.sqrt((dist_x**2+dist_y**2)/(time_step)**2)\n",
    "        \n",
    "#print(speed)\n",
    "\n"
   ]
  },
  {
   "cell_type": "code",
   "execution_count": 436,
   "metadata": {},
   "outputs": [
    {
     "name": "stdout",
     "output_type": "stream",
     "text": [
      "(2378, 3)\n"
     ]
    }
   ],
   "source": [
    "mat['speed'] = speed\n",
    "#mat['time']= positions.time.values\n",
    "print(mat.shape)"
   ]
  },
  {
   "cell_type": "code",
   "execution_count": 437,
   "metadata": {},
   "outputs": [
    {
     "name": "stdout",
     "output_type": "stream",
     "text": [
      "1.414213377927898e-07\n"
     ]
    },
    {
     "data": {
      "text/plain": [
       "(array([2.367e+03, 5.000e+00, 1.000e+00, 1.000e+00, 2.000e+00, 0.000e+00,\n",
       "        1.000e+00, 0.000e+00, 0.000e+00, 1.000e+00]),\n",
       " array([0.        , 0.00021735, 0.0004347 , 0.00065205, 0.0008694 ,\n",
       "        0.00108675, 0.0013041 , 0.00152145, 0.0017388 , 0.00195615,\n",
       "        0.0021735 ]),\n",
       " <a list of 10 Patch objects>)"
      ]
     },
     "execution_count": 437,
     "metadata": {},
     "output_type": "execute_result"
    },
    {
     "data": {
      "image/png": "[encoded data removed]",
      "text/plain": [
       "<Figure size 432x288 with 1 Axes>"
      ]
     },
     "metadata": {
      "needs_background": "light"
     },
     "output_type": "display_data"
    }
   ],
   "source": [
    "\n",
    "# get an idea about different speeds\n",
    "np.unique(speed)\n",
    "idx_speed = np.where(speed == 0)\n",
    "vect = speed[speed != 0]\n",
    "             \n",
    "speed_min = vect.min()\n",
    "\n",
    "print(speed_min)\n",
    "plt.hist(speed)"
   ]
  },
  {
   "cell_type": "code",
   "execution_count": 438,
   "metadata": {},
   "outputs": [
    {
     "name": "stdout",
     "output_type": "stream",
     "text": [
      "0\n",
      "109\n",
      "396\n",
      "499\n",
      "522\n",
      "527\n",
      "532\n",
      "583\n",
      "1932\n",
      "1954\n",
      "2086\n",
      "            lat       lon  speed\n",
      "0     36.771243  3.300146    0.0\n",
      "109   36.771975  3.302384    0.0\n",
      "396   36.772039  3.301109    0.0\n",
      "499   36.771985  3.301858    0.0\n",
      "522   36.771982  3.301918    0.0\n",
      "527   36.771981  3.301923    0.0\n",
      "532   36.771981  3.301927    0.0\n",
      "583   36.771972  3.302320    0.0\n",
      "1932  36.772886  3.302267    0.0\n",
      "1954  36.772919  3.302054    0.0\n",
      "2086  36.773099  3.300918    0.0\n"
     ]
    }
   ],
   "source": [
    "# find zones center\n",
    "centre_zone = pd.DataFrame(columns = ['lat','lon'])\n",
    "mat['speed'] = speed\n",
    "#mat['time']= positions.time.values\n",
    "print(mat.shape)\n",
    "\n",
    " ## case speed == 0\n",
    "for i in range(len(mat)):\n",
    "    if mat.speed[i] == 0 :\n",
    "        print(i)\n",
    "        centre_zone = centre_zone.append(mat.iloc[i])#, mat.lon[i])\n",
    "        \n",
    "print(centre_zone)\n",
    "\n",
    " ## case of non-zero and equal speed for several individuals\n",
    "    \n",
    "\n",
    "\n"
   ]
  },
  {
   "cell_type": "code",
   "execution_count": null,
   "metadata": {},
   "outputs": [],
   "source": [
    "#filtred_mat=mat[mat.speed<0.0000005]\n",
    "#print(filtred_mat.shape)"
   ]
  },
  {
   "cell_type": "code",
   "execution_count": 453,
   "metadata": {},
   "outputs": [
    {
     "name": "stdout",
     "output_type": "stream",
     "text": [
      "[[36.7712434  3.3001456]\n",
      " [36.7712581  3.30014  ]\n",
      " [36.7712635  3.3001314]\n",
      " ...\n",
      " [36.7726814  3.3004567]\n",
      " [36.7726736  3.3004513]\n",
      " [36.7726662  3.300447 ]]\n"
     ]
    }
   ],
   "source": [
    "# input of DBSCAN (positions)\n",
    "X = np.array([mat.lat,mat.lon]) #,mat.speed])\n",
    "X=X.T\n",
    "print(X)\n",
    "#X= np.radians(X) # tronsfomation on Radians\n"
   ]
  },
  {
   "cell_type": "code",
   "execution_count": 440,
   "metadata": {
    "scrolled": true
   },
   "outputs": [],
   "source": [
    "# distance min \n",
    "earth_radius_km = 6371\n",
    "epsilon = 0.002/ earth_radius_km #calculate 2 meter epsilon threshold\n"
   ]
  },
  {
   "cell_type": "code",
   "execution_count": 441,
   "metadata": {},
   "outputs": [
    {
     "name": "stdout",
     "output_type": "stream",
     "text": [
      "[-0.04524618970337207, -0.07288516747337509, 0.11037863045550829, 0.059410010433065555, 0.2111157874391392, 0.11061828027145802, 0.09830313628379063, 0.04121650227071956, -0.010070778538310964, -0.07487058950386286, -0.12646131222768686, -0.20576960218731866, -0.24264553008277873, -0.3269434299759302, -0.3864281512459294, -0.4080728473216882, -0.40568665004437, -0.40254563112808894, -0.43499297339237863, -0.45141514665023164, -0.3717501400162317, -0.3958845834214944, -0.4071115401308748, -0.4117712814011342, -0.4256491845080187, -0.20110150156528694, -0.20193971417822285]\n"
     ]
    },
    {
     "data": {
      "text/plain": [
       "[<matplotlib.lines.Line2D at 0x1fd3710f828>]"
      ]
     },
     "execution_count": 441,
     "metadata": {},
     "output_type": "execute_result"
    },
    {
     "data": {
      "image/png": "[encoded data removed]",
      "text/plain": [
       "<Figure size 432x288 with 1 Axes>"
      ]
     },
     "metadata": {
      "needs_background": "light"
     },
     "output_type": "display_data"
    }
   ],
   "source": [
    "# optimisation \n",
    "# find the silhouette max \n",
    "i=0\n",
    "silhouette=[]\n",
    "for sample in range(3,30): # variate number of compountes in one cluster\n",
    "    db = DBSCAN(eps= 0.0000005, min_samples= sample).fit(X)\n",
    "    labels = db.labels_\n",
    "    silhouette.append(metrics.silhouette_score(X, labels))\n",
    "    \n",
    "print(silhouette)\n",
    "\n",
    "y=range(3,30)\n",
    "plt.plot(y,silhouette,c='red')\n"
   ]
  },
  {
   "cell_type": "code",
   "execution_count": 442,
   "metadata": {
    "scrolled": true
   },
   "outputs": [
    {
     "name": "stdout",
     "output_type": "stream",
     "text": [
      "0.2111157874391392 (array([4], dtype=int64),)\n",
      "[7]\n"
     ]
    }
   ],
   "source": [
    "# find the number of compount of DBSCAN\n",
    "\n",
    "S_metrics = np.array(silhouette)\n",
    "metric_max = (S_metrics).max()\n",
    "indx_max = np.where(S_metrics == np.amax(S_metrics))\n",
    "y = np.array(y) # range of variation  \n",
    "number_compounts_DBSCAN = y[indx_max]\n",
    "\n",
    "print (metric_max, indx_max)\n",
    "print (number_compounts_DBSCAN)"
   ]
  },
  {
   "cell_type": "code",
   "execution_count": 462,
   "metadata": {},
   "outputs": [
    {
     "name": "stdout",
     "output_type": "stream",
     "text": [
      "[  31   32   33   34   35   36   37   38   39   40   41   42   43   44\n",
      "   45   46   47   48   49   50   51   52   53   54   55   56   57   58\n",
      "   59   60   61   62   63   64   65   66   67   68   69   72   73   74\n",
      "   75   76   81   82   83   86   87   88   89   90   91   92   93   94\n",
      "   95   96   97   98   99  100  101  102  103  104  105  106  107  108\n",
      "  109  110  111  112  113  114  115  116  117  118  119  120  121  124\n",
      "  125  126  127  129  131  132  133  134  135  136  137  138  139  140\n",
      "  141  142  143  144  145  146  147  148  149  150  151  152  153  154\n",
      "  155  156  157  158  159  160  161  162  163  164  165  166  167  168\n",
      "  169  170  195  196  197  198  199  200  201  202  203  204  205  206\n",
      "  207  208  209  210  211  212  213  214  277  278  279  280  281  282\n",
      "  283  284  285  286  287  288  289  290  291  292  293  294  295  296\n",
      "  297  298  299  300  301  302  303  304  305  306  307  308  309  310\n",
      "  311  312  313  314  315  316  317  318  319  320  321  322  323  324\n",
      "  325  326  327  328  329  330  331  332  333  334  335  336  364  365\n",
      "  366  367  368  369  370  375  376  377  378  379  380  381  382  383\n",
      "  384  385  386  387  388  389  390  391  392  393  394  395  396  397\n",
      "  398  399  400  401  402  403  404  405  406  407  408  409  410  517\n",
      "  518  519  520  521  522  523  524  525  526  527  528  529  530  531\n",
      "  532  533  534  535  536  537  538  539  540  541  542  543  544  545\n",
      "  546  547  548  549  550  551  552  553  581  582  583  584  585  586\n",
      "  587  588  589  590  591  592  593  594  595  596  597  598  599  685\n",
      "  686  688  689  690  691  692  693  694  695  696  701  706  707  708\n",
      "  709  710  711  712  713  714  715  811  812  815  816  817  857  858\n",
      "  860  899  900  901  906  907  908  909  910  911  912  913  914  915\n",
      "  916  941  942  943  944  945  965  966  967  976  977  979  997  998\n",
      "  999 1000 1001 1002 1003 1004 1008 1015 1016 1017 1018 1019 1020 1038\n",
      " 1048 1049 1050 1051 1055 1056 1057 1058 1059 1060 1061 1062 1063 1064\n",
      " 1065 1066 1067 1070 1071 1079 1081 1082 1083 1084 1091 1093 1094 1095\n",
      " 1096 1097 1098 1099 1100 1101 1102 1103 1104 1105 1106 1107 1108 1109\n",
      " 1110 1111 1112 1113 1114 1115 1116 1117 1119 1121 1130 1182 1183 1184\n",
      " 1185 1187 1188 1239 1240 1241 1242 1243 1244 1245 1272 1274 1345 1346\n",
      " 1348 1350 1351 1352 1355 1356 1360 1361 1362 1363 1364 1365 1366 1367\n",
      " 1368 1369 1370 1371 1372 1373 1379 1380 1381 1382 1383 1384 1385 1386\n",
      " 1387 1388 1389 1392 1393 1402 1403 1404 1417 1418 1419 1420 1451 1453\n",
      " 1454 1460 1461 1462 1463 1464 1465 1466 1467 1523 1524 1525 1526 1527\n",
      " 1528 1529 1530 1531 1532 1533 1534 1535 1536 1537 1538 1539 1540 1541\n",
      " 1542 1543 1544 1545 1546 1547 1548 1549 1550 1551 1552 1553 1554 1555\n",
      " 1631 1632 1633 1725 1732 1733 1734 1735 1736 1737 1738 1739 1740 1741\n",
      " 1742 1743 1744 1745 1746 1747 1748 1749 1750 1751 1752 1753 1754 1755\n",
      " 1756 1757 1758 1759 1760 1761 1762 1764 1770 1771 1772 1773 1775 1781\n",
      " 1785 1786 1787 1788 1789 1790 1792 1793 1794 1795 1797 1799 1800 1801\n",
      " 1802 1803 1812 1816 1838 1839 1840 1841 1842 1843 1844 1845 1846 1854\n",
      " 1855 1860 1861 1862 1863 1864 1865 1866 1867 1868 1869 1898 1899 1900\n",
      " 1901 1902 1904 1905 1906 1907 1908 1909 1910 1911 1934 1935 1936 1937\n",
      " 1938 1972 2116 2117 2119 2120 2121 2122 2123 2124 2125 2126 2127 2128\n",
      " 2139 2140 2141 2142 2143 2144 2145 2147 2331 2332 2333 2334]\n",
      "[False False False ... False False False]\n",
      "Estimated number of clusters: 25\n",
      "Estimated number of noise points: 1336\n",
      "Silhouette Coefficient: -0.201\n"
     ]
    }
   ],
   "source": [
    "\n",
    "#db = DBSCAN(eps= 0.0000005, min_samples= number_compounts_DBSCAN).fit(X)\n",
    "#labels = db.labels_\n",
    "\n",
    "db = DBSCAN(eps=0.0000005, min_samples=15).fit(np.radians(X))\n",
    "labels = db.labels_\n",
    "\n",
    "n_clusters_ = len(set(labels)) - (1 if -1 in labels else 0)\n",
    "n_noise_ = list(labels).count(-1)\n",
    "\n",
    "core_samples_mask = np.zeros_like(db.labels_, dtype=bool)\n",
    "core_samples_mask[db.core_sample_indices_] = True\n",
    "\n",
    "print(db.core_sample_indices_)\n",
    "print(core_samples_mask)\n",
    "\n",
    "print('Estimated number of clusters: %d' % n_clusters_)\n",
    "print('Estimated number of noise points: %d' % n_noise_)\n",
    "print(\"Silhouette Coefficient: %0.3f\"% metrics.silhouette_score(X, labels))\n",
    "\n"
   ]
  },
  {
   "cell_type": "code",
   "execution_count": null,
   "metadata": {},
   "outputs": [],
   "source": [
    "\n"
   ]
  },
  {
   "cell_type": "code",
   "execution_count": 463,
   "metadata": {},
   "outputs": [
    {
     "data": {
      "image/png": "[encoded data removed]",
      "text/plain": [
       "<Figure size 432x288 with 1 Axes>"
      ]
     },
     "metadata": {
      "needs_background": "light"
     },
     "output_type": "display_data"
    }
   ],
   "source": [
    "# plot results\n",
    "\n",
    "unique_labels = set(labels)\n",
    "colors = [plt.cm.Spectral(each)\n",
    "          for each in np.linspace(0, 1, len(unique_labels))]\n",
    "for k, col in zip(unique_labels, colors):\n",
    "    if k == -1:\n",
    "        # Black used for noise.\n",
    "        col = [0, 0, 0, 1]\n",
    "\n",
    "    class_member_mask = (labels == k)\n",
    "\n",
    "    xy = X[class_member_mask & core_samples_mask]\n",
    "    plt.plot(xy[:, 1], xy[:, 0], 'o', markerfacecolor=tuple(col),\n",
    "             markeredgecolor='k', markersize=14)\n",
    "\n",
    "    xy = X[class_member_mask & ~core_samples_mask]\n",
    "    plt.plot(xy[:, 1], xy[:, 0], 'o', markerfacecolor=tuple(col),\n",
    "             markeredgecolor='k', markersize=1)\n",
    "\n",
    "plt.title('Estimated number of clusters: %d' % n_clusters_)\n",
    "plt.show()\n"
   ]
  },
  {
   "cell_type": "code",
   "execution_count": null,
   "metadata": {},
   "outputs": [],
   "source": []
  },
  {
   "cell_type": "code",
   "execution_count": null,
   "metadata": {},
   "outputs": [],
   "source": []
  }
 ],
 "metadata": {
  "kernelspec": {
   "display_name": "Python 3",
   "language": "python",
   "name": "python3"
  },
  "language_info": {
   "codemirror_mode": {
    "name": "ipython",
    "version": 3
   },
   "file_extension": ".py",
   "mimetype": "text/x-python",
   "name": "python",
   "nbconvert_exporter": "python",
   "pygments_lexer": "ipython3",
   "version": "3.7.3"
  }
 },
 "nbformat": 4,
 "nbformat_minor": 2
}
